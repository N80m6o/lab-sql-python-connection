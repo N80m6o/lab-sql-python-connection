{
 "cells": [
  {
   "cell_type": "code",
   "execution_count": 3,
   "metadata": {},
   "outputs": [
    {
     "name": "stdout",
     "output_type": "stream",
     "text": [
      "Defaulting to user installation because normal site-packages is not writeable\n",
      "Requirement already satisfied: pandas in c:\\programdata\\anaconda3\\lib\\site-packages (2.1.4)\n",
      "Requirement already satisfied: sqlalchemy in c:\\programdata\\anaconda3\\lib\\site-packages (2.0.25)\n",
      "Requirement already satisfied: mysql-connector-python in c:\\users\\admin\\appdata\\roaming\\python\\python311\\site-packages (9.0.0)\n",
      "Requirement already satisfied: numpy<2,>=1.23.2 in c:\\programdata\\anaconda3\\lib\\site-packages (from pandas) (1.26.4)\n",
      "Requirement already satisfied: python-dateutil>=2.8.2 in c:\\programdata\\anaconda3\\lib\\site-packages (from pandas) (2.8.2)\n",
      "Requirement already satisfied: pytz>=2020.1 in c:\\programdata\\anaconda3\\lib\\site-packages (from pandas) (2023.3.post1)\n",
      "Requirement already satisfied: tzdata>=2022.1 in c:\\programdata\\anaconda3\\lib\\site-packages (from pandas) (2023.3)\n",
      "Requirement already satisfied: typing-extensions>=4.6.0 in c:\\programdata\\anaconda3\\lib\\site-packages (from sqlalchemy) (4.9.0)\n",
      "Requirement already satisfied: greenlet!=0.4.17 in c:\\programdata\\anaconda3\\lib\\site-packages (from sqlalchemy) (3.0.1)\n",
      "Requirement already satisfied: six>=1.5 in c:\\programdata\\anaconda3\\lib\\site-packages (from python-dateutil>=2.8.2->pandas) (1.16.0)\n"
     ]
    }
   ],
   "source": [
    "#Step 1: Establish a connection between Python and the Sakila database.\n",
    "!pip install pandas sqlalchemy mysql-connector-python"
   ]
  },
  {
   "cell_type": "code",
   "execution_count": 12,
   "metadata": {},
   "outputs": [],
   "source": [
    "##Step 3: Python function to count rentals made by each customer.\n",
    "def rental_count_month(df, month, year):\n",
    "    # Ensure the rental_date column is in datetime format\n",
    "    df['rental_date'] = pd.to_datetime(df['rental_date'])\n",
    "    df_filtered = df[(df['rental_date'].dt.month == month) & (df['rental_date'].dt.year == year)]\n",
    "    rental_count = df_filtered.groupby('customer_id').size().reset_index(name=f'rentals_{month:02d}_{year}')\n",
    "    return rental_count"
   ]
  },
  {
   "cell_type": "code",
   "execution_count": 13,
   "metadata": {},
   "outputs": [],
   "source": [
    "##Step 4: Python function to compare rentals between two months and years.\n",
    "def compare_rentals(df1, df2):\n",
    "    combined_df = pd.merge(df1, df2, on='customer_id', how='outer').fillna(0)\n",
    "    month1_col = df1.columns[1]\n",
    "    month2_col = df2.columns[1]\n",
    "    combined_df['difference'] = combined_df[month1_col] - combined_df[month2_col]\n",
    "    return combined_df"
   ]
  },
  {
   "cell_type": "code",
   "execution_count": 6,
   "metadata": {},
   "outputs": [],
   "source": [
    "import pandas as pd\n",
    "from sqlalchemy import create_engine\n",
    "import mysql.connector\n",
    "from mysql.connector import Error\n",
    "import numpy as np\n",
    "from datetime import datetime\n",
    "import matplotlib.pyplot as plt\n",
    "#import pymysql\n",
    "import getpass\n",
    "\n",
    "# Replace with your MySQL credentials\n",
    "username = 'root'\n",
    "host = 'localhost'\n",
    "database = 'sakila'\n",
    "\n",
    "\n",
    "\n",
    "password = getpass.getpass(\"Please enter the SQL database password: \")\n",
    "\n",
    "# Create a database engine\n",
    "engine = create_engine(f'mysql+mysqlconnector://{username}:{password}@{host}/{database}')"
   ]
  },
  {
   "cell_type": "code",
   "execution_count": 7,
   "metadata": {},
   "outputs": [],
   "source": [
    "def create_connection(host_name, user_name, user_password, db_name):\n",
    "    connection = None\n",
    "    try:\n",
    "        connection = mysql.connector.connect(\n",
    "            host=host_name,\n",
    "            user=user_name,\n",
    "            password=user_password,\n",
    "            database=db_name\n",
    "        )\n",
    "        if connection.is_connected():\n",
    "            print(\"Connection to MySQL DB successful\")\n",
    "    except Error as e:\n",
    "        print(f\"The error '{e}' occurred\")\n",
    "    return connection"
   ]
  },
  {
   "cell_type": "code",
   "execution_count": 8,
   "metadata": {},
   "outputs": [
    {
     "name": "stdout",
     "output_type": "stream",
     "text": [
      "Connection to MySQL DB successful\n"
     ]
    }
   ],
   "source": [
    "# s\n",
    "connection = create_connection(host, username, password, \"fraud_detection\")"
   ]
  },
  {
   "cell_type": "code",
   "execution_count": 11,
   "metadata": {},
   "outputs": [],
   "source": [
    "##Step 2: Python function to retrieve rental data for a given month and year\n",
    "import pandas as pd\n",
    "from sqlalchemy import create_engine\n",
    "from sqlalchemy import text\n",
    "\n",
    "def rentals_month(engine, month, year):\n",
    "    query = text(\"\"\"\n",
    "    SELECT rental_id, customer_id, rental_date\n",
    "    FROM rental\n",
    "    WHERE MONTH(rental_date) = :month AND YEAR(rental_date) = :year\n",
    "    \"\"\")\n",
    "    with engine.connect() as connection:\n",
    "        result = connection.execute(query, month=month, year=year).fetchall()\n",
    "        df = pd.DataFrame(result, columns=['rental_id', 'customer_id', 'rental_date'])\n",
    "    return df\n",
    "\n",
    "# Retrieve rental data for May and June 2005\n",
    "rentals_may = rentals_month(engine, 5, 2005)\n",
    "rentals_june = rentals_month(engine, 6, 2005)"
   ]
  },
  {
   "cell_type": "code",
   "execution_count": 10,
   "metadata": {},
   "outputs": [
    {
     "ename": "NameError",
     "evalue": "name 'rentals_may' is not defined",
     "output_type": "error",
     "traceback": [
      "\u001b[1;31m---------------------------------------------------------------------------\u001b[0m",
      "\u001b[1;31mNameError\u001b[0m                                 Traceback (most recent call last)",
      "Cell \u001b[1;32mIn[10], line 2\u001b[0m\n\u001b[0;32m      1\u001b[0m \u001b[38;5;66;03m# Count rentals for each customer in May and June 2005\u001b[39;00m\n\u001b[1;32m----> 2\u001b[0m rental_count_may \u001b[38;5;241m=\u001b[39m rental_count_month(rentals_may, \u001b[38;5;241m5\u001b[39m, \u001b[38;5;241m2005\u001b[39m)\n\u001b[0;32m      3\u001b[0m rental_count_june \u001b[38;5;241m=\u001b[39m rental_count_month(rentals_june, \u001b[38;5;241m6\u001b[39m, \u001b[38;5;241m2005\u001b[39m)\n",
      "\u001b[1;31mNameError\u001b[0m: name 'rentals_may' is not defined"
     ]
    }
   ],
   "source": [
    "# Count rentals for each customer in May and June 2005\n",
    "rental_count_may = rental_count_month(rentals_may, 5, 2005)\n",
    "rental_count_june = rental_count_month(rentals_june, 6, 2005)"
   ]
  },
  {
   "cell_type": "code",
   "execution_count": null,
   "metadata": {},
   "outputs": [],
   "source": [
    "def compare_rentals(df1, df2):\n",
    "    combined_df = pd.merge(df1, df2, on='customer_id', how='outer').fillna(0)\n",
    "    month1_col = df1.columns[1]\n",
    "    month2_col = df2.columns[1]\n",
    "    combined_df['difference'] = combined_df[month1_col] - combined_df[month2_col]\n",
    "    return combined_df"
   ]
  },
  {
   "cell_type": "code",
   "execution_count": null,
   "metadata": {},
   "outputs": [
    {
     "name": "stdout",
     "output_type": "stream",
     "text": [
      "     customer_id  rentals_05_2005  rentals_06_2005  difference\n",
      "0              1              2.0              7.0        -5.0\n",
      "1              2              1.0              1.0         0.0\n",
      "2              3              2.0              4.0        -2.0\n",
      "3              5              3.0              5.0        -2.0\n",
      "4              6              3.0              4.0        -1.0\n",
      "..           ...              ...              ...         ...\n",
      "593          583              0.0              6.0        -6.0\n",
      "594          585              0.0              4.0        -4.0\n",
      "595          591              0.0              3.0        -3.0\n",
      "596          592              0.0              5.0        -5.0\n",
      "597          598              0.0              1.0        -1.0\n",
      "\n",
      "[598 rows x 4 columns]\n"
     ]
    }
   ],
   "source": [
    "# Compare the rental counts between May and June 2005\n",
    "comparison_df = compare_rentals(rental_count_may, rental_count_june)\n",
    "\n",
    "# Display the comparison DataFrame\n",
    "print(comparison_df)"
   ]
  }
 ],
 "metadata": {
  "kernelspec": {
   "display_name": "base",
   "language": "python",
   "name": "python3"
  },
  "language_info": {
   "codemirror_mode": {
    "name": "ipython",
    "version": 3
   },
   "file_extension": ".py",
   "mimetype": "text/x-python",
   "name": "python",
   "nbconvert_exporter": "python",
   "pygments_lexer": "ipython3",
   "version": "3.11.7"
  }
 },
 "nbformat": 4,
 "nbformat_minor": 2
}
